{
  "nbformat": 4,
  "nbformat_minor": 0,
  "metadata": {
    "colab": {
      "name": "TNDS_1.ipynb",
      "version": "0.3.2",
      "provenance": [],
      "collapsed_sections": []
    },
    "language_info": {
      "codemirror_mode": {
        "name": "ipython",
        "version": 3
      },
      "file_extension": ".py",
      "mimetype": "text/x-python",
      "name": "python",
      "nbconvert_exporter": "python",
      "pygments_lexer": "ipython3",
      "version": "3.6.8"
    },
    "kernelspec": {
      "display_name": "Python 3",
      "language": "python",
      "name": "python3"
    }
  },
  "cells": [
    {
      "cell_type": "code",
      "metadata": {
        "id": "fHWiYbYzpi_t",
        "colab_type": "code",
        "colab": {}
      },
      "source": [
        "import numpy as np\n",
        "from numpy.linalg import matrix_power\n",
        "import functools"
      ],
      "execution_count": 0,
      "outputs": []
    },
    {
      "cell_type": "markdown",
      "metadata": {
        "id": "BflzrTpcpi_y",
        "colab_type": "text"
      },
      "source": [
        "## Условие"
      ]
    },
    {
      "cell_type": "code",
      "metadata": {
        "id": "qSMjRtuvpi_z",
        "colab_type": "code",
        "outputId": "8fd2a0bf-8282-4404-9cb4-9dd0accac4d7",
        "colab": {
          "base_uri": "https://localhost:8080/",
          "height": 85
        }
      },
      "source": [
        "# Хохлосюк\n",
        "# A = np.array([[3,-2,2],[0.1,1.8,-1.7],[-0.9,1.8,-1.7]])\n",
        "# m = 3.0\n",
        "\n",
        "# Сережа\n",
        "# A = np.array([[-3, 4, -4],[-3, 5, -5],[-1, 2, -2]])\n",
        "# m = 12.0\n",
        "\n",
        "# Ира\n",
        "A = np.array([[-2, 3.5, -3.5],[-3.5, 6.75, -7],[-1.75, 3.5, -3.75]])\n",
        "m = 7.0\n",
        "\n",
        "print('m =', m)\n",
        "print(A)"
      ],
      "execution_count": 2,
      "outputs": [
        {
          "output_type": "stream",
          "text": [
            "m = 7.0\n",
            "[[-2.    3.5  -3.5 ]\n",
            " [-3.5   6.75 -7.  ]\n",
            " [-1.75  3.5  -3.75]]\n"
          ],
          "name": "stdout"
        }
      ]
    },
    {
      "cell_type": "markdown",
      "metadata": {
        "id": "jXhKImN9pi_5",
        "colab_type": "text"
      },
      "source": [
        "## Пункт 1-2"
      ]
    },
    {
      "cell_type": "code",
      "metadata": {
        "id": "_VKpRcvnpi_6",
        "colab_type": "code",
        "outputId": "f3890ef8-7005-4e11-a465-053ff98248d5",
        "colab": {
          "base_uri": "https://localhost:8080/",
          "height": 119
        }
      },
      "source": [
        "ev = np.linalg.eig(A)\n",
        "print('Собственные значения:\\n', ev[0])\n",
        "print('Собственные векторы:\\n', ev[1])"
      ],
      "execution_count": 3,
      "outputs": [
        {
          "output_type": "stream",
          "text": [
            "Собственные значения:\n",
            " [ 1.5  -0.25 -0.25]\n",
            "Собственные векторы:\n",
            " [[ 0.40824829  0.36033146  0.26027455]\n",
            " [ 0.81649658 -0.56334325  0.74469696]\n",
            " [ 0.40824829 -0.74350899  0.61455968]]\n"
          ],
          "name": "stdout"
        }
      ]
    },
    {
      "cell_type": "markdown",
      "metadata": {
        "id": "IrrLl_P4pi_-",
        "colab_type": "text"
      },
      "source": [
        "## Пункт 3"
      ]
    },
    {
      "cell_type": "code",
      "metadata": {
        "id": "QJYPzbu6pi__",
        "colab_type": "code",
        "outputId": "dd976754-c57e-405a-a0d2-6caceb1ef978",
        "colab": {
          "base_uri": "https://localhost:8080/",
          "height": 34
        }
      },
      "source": [
        "if (np.max(ev[0]) < 1):\n",
        "    print('Устойчивая система')\n",
        "if (np.max(ev[0]) == 1):\n",
        "    print('Система на границе устойчивости')\n",
        "if (np.max(ev[0]) > 1):\n",
        "    print('Неустойчивая система')"
      ],
      "execution_count": 4,
      "outputs": [
        {
          "output_type": "stream",
          "text": [
            "Неустойчивая система\n"
          ],
          "name": "stdout"
        }
      ]
    },
    {
      "cell_type": "markdown",
      "metadata": {
        "id": "pAHFuONDpjAD",
        "colab_type": "text"
      },
      "source": [
        "## Пункт 4"
      ]
    },
    {
      "cell_type": "code",
      "metadata": {
        "id": "psZMwuy8pjAI",
        "colab_type": "code",
        "outputId": "666dae5e-277e-4f63-dee2-b462801de0ca",
        "colab": {
          "base_uri": "https://localhost:8080/",
          "height": 85
        }
      },
      "source": [
        "epsilon = 0.0001\n",
        "k = 1 / (np.max(ev[0]) + epsilon)\n",
        "A_hat = A * k\n",
        "print('Скорректированная матрица:')\n",
        "print(A_hat)"
      ],
      "execution_count": 5,
      "outputs": [
        {
          "output_type": "stream",
          "text": [
            "Скорректированная матрица:\n",
            "[[-1.33324445  2.33317779 -2.33317779]\n",
            " [-2.33317779  4.49970002 -4.66635558]\n",
            " [-1.16658889  2.33317779 -2.49983334]]\n"
          ],
          "name": "stdout"
        }
      ]
    },
    {
      "cell_type": "code",
      "metadata": {
        "id": "IJVyR3-YpjAM",
        "colab_type": "code",
        "outputId": "ad42b269-4439-4a82-98bf-01b7e8157745",
        "colab": {
          "base_uri": "https://localhost:8080/",
          "height": 119
        }
      },
      "source": [
        "ev_hat = np.linalg.eig(A_hat)\n",
        "print('Собственные значения скорректированной матрицы:\\n', ev_hat[0])\n",
        "print('Собственные векторы скорректированной матрицы:\\n', ev_hat[1])"
      ],
      "execution_count": 6,
      "outputs": [
        {
          "output_type": "stream",
          "text": [
            "Собственные значения скорректированной матрицы:\n",
            " [ 0.99993334 -0.16665556 -0.16665556]\n",
            "Собственные векторы скорректированной матрицы:\n",
            " [[ 0.40824829 -0.88748583 -0.49085225]\n",
            " [ 0.81649658  0.01678626 -0.7264295 ]\n",
            " [ 0.40824829  0.46052917 -0.48100338]]\n"
          ],
          "name": "stdout"
        }
      ]
    },
    {
      "cell_type": "markdown",
      "metadata": {
        "id": "ukPRHClfpjAQ",
        "colab_type": "text"
      },
      "source": [
        "## Пункт 5"
      ]
    },
    {
      "cell_type": "markdown",
      "metadata": {
        "id": "SrIDoATjpjAR",
        "colab_type": "text"
      },
      "source": [
        "#### Выбираем соответствующие собственные вектора:"
      ]
    },
    {
      "cell_type": "code",
      "metadata": {
        "id": "O_rAAobupjAT",
        "colab_type": "code",
        "outputId": "5b9a3cc0-dcc1-4133-f61d-8af8f84b4227",
        "colab": {
          "base_uri": "https://localhost:8080/",
          "height": 119
        }
      },
      "source": [
        "def desc_eig(v):\n",
        "    if (v < 0):\n",
        "        return 'с асимптотически убывающими состояниями, т.к. соответствующее собственное значение меньше 1'\n",
        "    if (v == 1):\n",
        "        return 'с равномерно ограниченными состояниями, т.к. соответствующее собственное значение равно 1'\n",
        "    return 'с асимптотически возрастающими состояниями, т.к. соответствующее собственное значение больше 1'\n",
        "\n",
        "for i in range(3):\n",
        "    print('При Xo =', ev[1][i], 'система', desc_eig(ev[0][i]), '\\n')"
      ],
      "execution_count": 7,
      "outputs": [
        {
          "output_type": "stream",
          "text": [
            "При Xo = [0.40824829 0.36033146 0.26027455] система с асимптотически возрастающими состояниями, т.к. соответствующее собственное значение больше 1 \n",
            "\n",
            "При Xo = [ 0.81649658 -0.56334325  0.74469696] система с асимптотически убывающими состояниями, т.к. соответствующее собственное значение меньше 1 \n",
            "\n",
            "При Xo = [ 0.40824829 -0.74350899  0.61455968] система с асимптотически убывающими состояниями, т.к. соответствующее собственное значение меньше 1 \n",
            "\n"
          ],
          "name": "stdout"
        }
      ]
    },
    {
      "cell_type": "markdown",
      "metadata": {
        "id": "WXXIp3-UpjAY",
        "colab_type": "text"
      },
      "source": [
        "## Пункт 6"
      ]
    },
    {
      "cell_type": "code",
      "metadata": {
        "id": "04RAyX7HpjAa",
        "colab_type": "code",
        "outputId": "87aa12d6-7a9a-4afb-e2da-cb919396335a",
        "colab": {
          "base_uri": "https://localhost:8080/",
          "height": 68
        }
      },
      "source": [
        "np.linalg.matrix_power(A, 1)"
      ],
      "execution_count": 8,
      "outputs": [
        {
          "output_type": "execute_result",
          "data": {
            "text/plain": [
              "array([[-2.  ,  3.5 , -3.5 ],\n",
              "       [-3.5 ,  6.75, -7.  ],\n",
              "       [-1.75,  3.5 , -3.75]])"
            ]
          },
          "metadata": {
            "tags": []
          },
          "execution_count": 8
        }
      ]
    },
    {
      "cell_type": "code",
      "metadata": {
        "id": "9zQ4nGPBptml",
        "colab_type": "code",
        "outputId": "4293e193-6d75-4d0b-8526-2a8338132825",
        "colab": {
          "base_uri": "https://localhost:8080/",
          "height": 68
        }
      },
      "source": [
        "np.linalg.matrix_power(A, 2)"
      ],
      "execution_count": 9,
      "outputs": [
        {
          "output_type": "execute_result",
          "data": {
            "text/plain": [
              "array([[-2.125 ,  4.375 , -4.375 ],\n",
              "       [-4.375 ,  8.8125, -8.75  ],\n",
              "       [-2.1875,  4.375 , -4.3125]])"
            ]
          },
          "metadata": {
            "tags": []
          },
          "execution_count": 9
        }
      ]
    },
    {
      "cell_type": "code",
      "metadata": {
        "id": "e7j_k4WaqCUm",
        "colab_type": "code",
        "outputId": "6830a1da-0405-4a05-a5b4-49ec4c0495d5",
        "colab": {
          "base_uri": "https://localhost:8080/",
          "height": 68
        }
      },
      "source": [
        "np.linalg.matrix_power(A, 3)"
      ],
      "execution_count": 10,
      "outputs": [
        {
          "output_type": "execute_result",
          "data": {
            "text/plain": [
              "array([[ -3.40625 ,   6.78125 ,  -6.78125 ],\n",
              "       [ -6.78125 ,  13.546875, -13.5625  ],\n",
              "       [ -3.390625,   6.78125 ,  -6.796875]])"
            ]
          },
          "metadata": {
            "tags": []
          },
          "execution_count": 10
        }
      ]
    },
    {
      "cell_type": "code",
      "metadata": {
        "id": "PfSubm4ApuEx",
        "colab_type": "code",
        "outputId": "c714de81-9a71-405f-cf56-a2bab7005a26",
        "colab": {
          "base_uri": "https://localhost:8080/",
          "height": 68
        }
      },
      "source": [
        "np.linalg.matrix_power(A, 200)"
      ],
      "execution_count": 11,
      "outputs": [
        {
          "output_type": "execute_result",
          "data": {
            "text/plain": [
              "array([[-1.65291991e+35,  3.30583982e+35, -3.30583982e+35],\n",
              "       [-3.30583982e+35,  6.61167964e+35, -6.61167964e+35],\n",
              "       [-1.65291991e+35,  3.30583982e+35, -3.30583982e+35]])"
            ]
          },
          "metadata": {
            "tags": []
          },
          "execution_count": 11
        }
      ]
    },
    {
      "cell_type": "code",
      "metadata": {
        "id": "Shvss7nlp2Lp",
        "colab_type": "code",
        "outputId": "bbae884e-b80a-4068-e4b3-fe319f5ac01f",
        "colab": {
          "base_uri": "https://localhost:8080/",
          "height": 68
        }
      },
      "source": [
        "np.linalg.matrix_power(A_hat, 1)"
      ],
      "execution_count": 12,
      "outputs": [
        {
          "output_type": "execute_result",
          "data": {
            "text/plain": [
              "array([[-1.33324445,  2.33317779, -2.33317779],\n",
              "       [-2.33317779,  4.49970002, -4.66635558],\n",
              "       [-1.16658889,  2.33317779, -2.49983334]])"
            ]
          },
          "metadata": {
            "tags": []
          },
          "execution_count": 12
        }
      ]
    },
    {
      "cell_type": "code",
      "metadata": {
        "id": "CwEU7XFwp2Yg",
        "colab_type": "code",
        "outputId": "5a6f3b9d-3e72-4daa-e6c0-5fa401776269",
        "colab": {
          "base_uri": "https://localhost:8080/",
          "height": 68
        }
      },
      "source": [
        "np.linalg.matrix_power(A_hat, 2)"
      ],
      "execution_count": 13,
      "outputs": [
        {
          "output_type": "execute_result",
          "data": {
            "text/plain": [
              "array([[-0.94431853,  1.94418521, -1.94418521],\n",
              "       [-1.94418521,  3.9161445 , -3.88837042],\n",
              "       [-0.97209261,  1.94418521, -1.91641114]])"
            ]
          },
          "metadata": {
            "tags": []
          },
          "execution_count": 13
        }
      ]
    },
    {
      "cell_type": "code",
      "metadata": {
        "id": "U31eAQ-fqHe5",
        "colab_type": "code",
        "outputId": "a91b6ce6-2ffc-4c7b-8e30-0f8b6ab118bf",
        "colab": {
          "base_uri": "https://localhost:8080/",
          "height": 68
        }
      },
      "source": [
        "np.linalg.matrix_power(A_hat, 3)"
      ],
      "execution_count": 14,
      "outputs": [
        {
          "output_type": "execute_result",
          "data": {
            "text/plain": [
              "array([[-1.00905743,  2.00885746, -2.00885746],\n",
              "       [-2.00885746,  4.01308622, -4.01771492],\n",
              "       [-1.00442873,  2.00885746, -2.01348616]])"
            ]
          },
          "metadata": {
            "tags": []
          },
          "execution_count": 14
        }
      ]
    },
    {
      "cell_type": "code",
      "metadata": {
        "id": "GnxTHBxrpjAe",
        "colab_type": "code",
        "outputId": "0ce7e3e5-d302-4c94-ef3b-6196e0a992fb",
        "colab": {
          "base_uri": "https://localhost:8080/",
          "height": 68
        }
      },
      "source": [
        "np.linalg.matrix_power(A_hat, 200)"
      ],
      "execution_count": 15,
      "outputs": [
        {
          "output_type": "execute_result",
          "data": {
            "text/plain": [
              "array([[-0.9867556,  1.9735112, -1.9735112],\n",
              "       [-1.9735112,  3.9470224, -3.9470224],\n",
              "       [-0.9867556,  1.9735112, -1.9735112]])"
            ]
          },
          "metadata": {
            "tags": []
          },
          "execution_count": 15
        }
      ]
    },
    {
      "cell_type": "markdown",
      "metadata": {
        "id": "neF3Sn2apjAh",
        "colab_type": "text"
      },
      "source": [
        "#### Скорректированная матрица стремится к 0, когда как исходная матрица стремится к бесконечности"
      ]
    },
    {
      "cell_type": "markdown",
      "metadata": {
        "id": "J20eUt4_pjAi",
        "colab_type": "text"
      },
      "source": [
        "## Пункт 7"
      ]
    },
    {
      "cell_type": "markdown",
      "metadata": {
        "id": "-FYLBq15rVke",
        "colab_type": "text"
      },
      "source": [
        "1) Дискретная"
      ]
    },
    {
      "cell_type": "code",
      "metadata": {
        "id": "2MxBpd3JpjAj",
        "colab_type": "code",
        "outputId": "71e570e1-a1c8-4bfe-c13f-4e5e43dc5a37",
        "colab": {
          "base_uri": "https://localhost:8080/",
          "height": 51
        }
      },
      "source": [
        "A = np.array(A)\n",
        "X = [ev[1][1]]\n",
        "n = 20\n",
        "\n",
        "print('n =', n)\n",
        "print('X0 =', X[0])"
      ],
      "execution_count": 16,
      "outputs": [
        {
          "output_type": "stream",
          "text": [
            "n = 20\n",
            "X0 = [ 0.81649658 -0.56334325  0.74469696]\n"
          ],
          "name": "stdout"
        }
      ]
    },
    {
      "cell_type": "code",
      "metadata": {
        "id": "oVXP2W_mrjqf",
        "colab_type": "code",
        "outputId": "87ee3c17-e8ea-46da-ff81-fa7bdf95c987",
        "colab": {
          "base_uri": "https://localhost:8080/",
          "height": 357
        }
      },
      "source": [
        "f = []\n",
        "f.append(np.array([1,1,1]))\n",
        "for i in range(1, 21):\n",
        "  f.append(m / (i**2) * f[i - 1])\n",
        "  print('f(%d) = ' % i, str(f[i]))"
      ],
      "execution_count": 17,
      "outputs": [
        {
          "output_type": "stream",
          "text": [
            "f(1) =  [7. 7. 7.]\n",
            "f(2) =  [12.25 12.25 12.25]\n",
            "f(3) =  [9.52777778 9.52777778 9.52777778]\n",
            "f(4) =  [4.16840278 4.16840278 4.16840278]\n",
            "f(5) =  [1.16715278 1.16715278 1.16715278]\n",
            "f(6) =  [0.22694637 0.22694637 0.22694637]\n",
            "f(7) =  [0.03242091 0.03242091 0.03242091]\n",
            "f(8) =  [0.00354604 0.00354604 0.00354604]\n",
            "f(9) =  [0.00030645 0.00030645 0.00030645]\n",
            "f(10) =  [2.14513355e-05 2.14513355e-05 2.14513355e-05]\n",
            "f(11) =  [1.24098635e-06 1.24098635e-06 1.24098635e-06]\n",
            "f(12) =  [6.03257253e-08 6.03257253e-08 6.03257253e-08]\n",
            "f(13) =  [2.49869868e-09 2.49869868e-09 2.49869868e-09]\n",
            "f(14) =  [8.92392386e-11 8.92392386e-11 8.92392386e-11]\n",
            "f(15) =  [2.77633187e-12 2.77633187e-12 2.77633187e-12]\n",
            "f(16) =  [7.59153245e-14 7.59153245e-14 7.59153245e-14]\n",
            "f(17) =  [1.83877949e-15 1.83877949e-15 1.83877949e-15]\n",
            "f(18) =  [3.97267173e-17 3.97267173e-17 3.97267173e-17]\n",
            "f(19) =  [7.70324158e-19 7.70324158e-19 7.70324158e-19]\n",
            "f(20) =  [1.34806728e-20 1.34806728e-20 1.34806728e-20]\n"
          ],
          "name": "stdout"
        }
      ]
    },
    {
      "cell_type": "code",
      "metadata": {
        "id": "W31fHLecrprM",
        "colab_type": "code",
        "outputId": "083c7109-cb59-458c-eb49-e31c564797ba",
        "colab": {
          "base_uri": "https://localhost:8080/",
          "height": 34
        }
      },
      "source": [
        "Xn = matrix_power(A, n).dot(X[0]) + sum([matrix_power(A, n-k-1).dot(f[k]) for k in range(n)])\n",
        "print('X(%d) = ' % 20, str(Xn))"
      ],
      "execution_count": 18,
      "outputs": [
        {
          "output_type": "stream",
          "text": [
            "X(20) =  [-44518.70872792 -89037.41745584 -44518.70872792]\n"
          ],
          "name": "stdout"
        }
      ]
    },
    {
      "cell_type": "code",
      "metadata": {
        "id": "wOxldUBbvrcR",
        "colab_type": "code",
        "outputId": "4ca484c7-4e03-4ee0-8622-46a296ad8bc6",
        "colab": {
          "base_uri": "https://localhost:8080/",
          "height": 374
        }
      },
      "source": [
        "print('X(%d) = ' % 0, str(X[0]))\n",
        "for i in range(1, 21):\n",
        "  X.append(A.dot(X[i-1]) + f[i-1])\n",
        "  print('X(%d) = ' % i, str(X[i]))"
      ],
      "execution_count": 19,
      "outputs": [
        {
          "output_type": "stream",
          "text": [
            "X(0) =  [ 0.81649658 -0.56334325  0.74469696]\n",
            "X(1) =  [ -5.2111339 -10.8731837  -5.193184 ]\n",
            "X(2) =  [ -2.45773116 -11.80273334  -2.46221864]\n",
            "X(3) =  [-15.52633916 -41.58086057 -15.52521729]\n",
            "X(4) =  [ -50.61429536 -108.12432294  -50.61457583]\n",
            "X(5) =  [ -95.88712139 -194.2187125   -95.88705127]\n",
            "X(6) =  [-151.21941874 -302.99487283 -151.21943627]\n",
            "X(7) =  [-228.5482441  -457.18442574 -228.54823972]\n",
            "X(8) =  [-343.09774196 -686.20592044 -343.09774305]\n",
            "X(9) =  [ -514.67959091 -1029.36011872  -514.67959063]\n",
            "X(10) =  [ -772.02236004 -1544.04479231  -772.02236011]\n",
            "X(11) =  [-1158.03377115 -2316.06754569 -1158.03377113]\n",
            "X(12) =  [-1737.05066743 -3474.10133525 -1737.05066743]\n",
            "X(13) =  [-2605.57600244 -5211.15200484 -2605.57600244]\n",
            "X(14) =  [-3908.36400353 -7816.72800706 -3908.36400353]\n",
            "X(15) =  [ -5862.54600533 -11725.09201065  -5862.54600533]\n",
            "X(16) =  [ -8793.81900798 -17587.63801597  -8793.81900798]\n",
            "X(17) =  [-13190.72851198 -26381.45702395 -13190.72851198]\n",
            "X(18) =  [-19786.09276796 -39572.18553593 -19786.09276796]\n",
            "X(19) =  [-29679.13915195 -59358.27830389 -29679.13915195]\n",
            "X(20) =  [-44518.70872792 -89037.41745584 -44518.70872792]\n"
          ],
          "name": "stdout"
        }
      ]
    },
    {
      "cell_type": "markdown",
      "metadata": {
        "id": "lNyRa1x7y7Mb",
        "colab_type": "text"
      },
      "source": [
        "2) Непрерывная"
      ]
    },
    {
      "cell_type": "code",
      "metadata": {
        "id": "G--upzWEw4H4",
        "colab_type": "code",
        "colab": {}
      },
      "source": [
        "import scipy.integrate as integrate\n",
        "import scipy.special as special\n",
        "from scipy.integrate import quad\n",
        "from scipy.linalg import expm\n",
        "from numpy import sqrt, sin, cos, pi\n",
        "from numpy import vectorize\n",
        "\n",
        "def integrand(x, A, t, m):\n",
        "  return expm(A * (t - x)).dot(np.array([(m + 10)/m, 1/m, 2/m])) * sin(x * (m+1) / m + pi * 0.25)\n",
        "\n",
        "t = 1"
      ],
      "execution_count": 0,
      "outputs": []
    },
    {
      "cell_type": "code",
      "metadata": {
        "id": "KgrDLw433Cpa",
        "colab_type": "code",
        "outputId": "21d47e65-9440-4f03-cac7-e5faa3f064f0",
        "colab": {
          "base_uri": "https://localhost:8080/",
          "height": 51
        }
      },
      "source": [
        "def compute(A, t, m, nbins=10000):\n",
        "    f = lambda x: integrand(x, A, t, m)\n",
        "    xv = np.linspace(0, t, nbins)\n",
        "    result = np.apply_along_axis(f, 0, xv.reshape(1,-1))\n",
        "    return np.trapz(result,xv)\n",
        " \n",
        "I = compute(A, 1, m)\n",
        "\n",
        "print('Значение интеграла:')\n",
        "print(I)"
      ],
      "execution_count": 21,
      "outputs": [
        {
          "output_type": "stream",
          "text": [
            "Значение интеграла:\n",
            "[-1.39501531 -6.66779749 -3.15763662]\n"
          ],
          "name": "stdout"
        }
      ]
    },
    {
      "cell_type": "code",
      "metadata": {
        "id": "t4E2SjzHAfhF",
        "colab_type": "code",
        "colab": {}
      },
      "source": [
        "import matplotlib.pyplot as plt\n",
        "%matplotlib inline"
      ],
      "execution_count": 0,
      "outputs": []
    },
    {
      "cell_type": "code",
      "metadata": {
        "id": "bS4T00ZeAP6a",
        "colab_type": "code",
        "outputId": "f8175b72-4a3c-4274-d3e9-2316272d9d4e",
        "colab": {
          "base_uri": "https://localhost:8080/",
          "height": 832
        }
      },
      "source": [
        "t_arr = np.arange(0., 1., 0.01)\n",
        "\n",
        "print('Графики вектора подинтегрального выражения:')\n",
        "\n",
        "for j in range(3):\n",
        "  plt.plot(t_arr, [integrand(i, A, t, m)[j] for i in t_arr])\n",
        "  plt.grid(True, which='both')\n",
        "  plt.axhline(y=0, color='k')\n",
        "  plt.axvline(x=0, color='k')\n",
        "  plt.xlabel('time, s')\n",
        "  plt.ylabel('integrant %d' % (j + 1))\n",
        "  plt.show()"
      ],
      "execution_count": 23,
      "outputs": [
        {
          "output_type": "stream",
          "text": [
            "Графики вектора подинтегрального выражения:\n"
          ],
          "name": "stdout"
        },
        {
          "output_type": "display_data",
          "data": {
            "image/png": "[encoded data removed]",
            "text/plain": [
              "<Figure size 432x288 with 1 Axes>"
            ]
          },
          "metadata": {
            "tags": []
          }
        },
        {
          "output_type": "display_data",
          "data": {
            "image/png": "[encoded data removed]",
            "text/plain": [
              "<Figure size 432x288 with 1 Axes>"
            ]
          },
          "metadata": {
            "tags": []
          }
        },
        {
          "output_type": "display_data",
          "data": {
            "image/png": "[encoded data removed]",
            "text/plain": [
              "<Figure size 432x288 with 1 Axes>"
            ]
          },
          "metadata": {
            "tags": []
          }
        }
      ]
    },
    {
      "cell_type": "code",
      "metadata": {
        "id": "mMoq9q3lAQPs",
        "colab_type": "code",
        "outputId": "be51c97f-ff1d-40fa-db2b-39701c1b5c7e",
        "colab": {
          "base_uri": "https://localhost:8080/",
          "height": 34
        }
      },
      "source": [
        "y0 = ev[1][1]\n",
        "yt = expm(A * t).dot(y0) + I\n",
        "\n",
        "print('y(t) =', yt)"
      ],
      "execution_count": 24,
      "outputs": [
        {
          "output_type": "stream",
          "text": [
            "y(t) = [-13.46957632 -32.52742802 -15.28811522]\n"
          ],
          "name": "stdout"
        }
      ]
    }
  ]
}