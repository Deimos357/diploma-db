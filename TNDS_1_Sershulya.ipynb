{
  "nbformat": 4,
  "nbformat_minor": 0,
  "metadata": {
    "colab": {
      "name": "TNDS_1.ipynb",
      "version": "0.3.2",
      "provenance": [],
      "collapsed_sections": []
    },
    "language_info": {
      "codemirror_mode": {
        "name": "ipython",
        "version": 3
      },
      "file_extension": ".py",
      "mimetype": "text/x-python",
      "name": "python",
      "nbconvert_exporter": "python",
      "pygments_lexer": "ipython3",
      "version": "3.6.8"
    },
    "kernelspec": {
      "display_name": "Python 3",
      "language": "python",
      "name": "python3"
    }
  },
  "cells": [
    {
      "cell_type": "code",
      "metadata": {
        "id": "fHWiYbYzpi_t",
        "colab_type": "code",
        "colab": {}
      },
      "source": [
        "import numpy as np\n",
        "from numpy.linalg import matrix_power\n",
        "import functools"
      ],
      "execution_count": 0,
      "outputs": []
    },
    {
      "cell_type": "markdown",
      "metadata": {
        "id": "BflzrTpcpi_y",
        "colab_type": "text"
      },
      "source": [
        "## Условие"
      ]
    },
    {
      "cell_type": "code",
      "metadata": {
        "id": "qSMjRtuvpi_z",
        "colab_type": "code",
        "outputId": "c2f221c6-3eb9-44a6-d4b9-b9855dd5c24f",
        "colab": {
          "base_uri": "https://localhost:8080/",
          "height": 85
        }
      },
      "source": [
        "# Хохлосюк\n",
        "# A = np.array([[3,-2,2],[0.1,1.8,-1.7],[-0.9,1.8,-1.7]])\n",
        "# m = 3.0\n",
        "\n",
        "# Сережа\n",
        "A = np.array([[-3, 4, -4],[-3, 5, -5],[-1, 2, -2]])\n",
        "m = 12.0\n",
        "\n",
        "# Ира\n",
        "# A = np.array([[-2, 3.5, -3.5],[-3.5, 6.75, -7],[-1.75, 3.5, -3.75]])\n",
        "# m = 7.0\n",
        "\n",
        "print('m =', m)\n",
        "print(A)"
      ],
      "execution_count": 2,
      "outputs": [
        {
          "output_type": "stream",
          "text": [
            "m = 12.0\n",
            "[[-3  4 -4]\n",
            " [-3  5 -5]\n",
            " [-1  2 -2]]\n"
          ],
          "name": "stdout"
        }
      ]
    },
    {
      "cell_type": "markdown",
      "metadata": {
        "id": "jXhKImN9pi_5",
        "colab_type": "text"
      },
      "source": [
        "## Пункт 1-2"
      ]
    },
    {
      "cell_type": "code",
      "metadata": {
        "id": "_VKpRcvnpi_6",
        "colab_type": "code",
        "outputId": "964a24b0-4d45-4686-e5fb-ee3ee26fbd56",
        "colab": {
          "base_uri": "https://localhost:8080/",
          "height": 119
        }
      },
      "source": [
        "ev = np.linalg.eig(A)\n",
        "print('Собственные значения:\\n', ev[0])\n",
        "print('Собственные векторы:\\n', ev[1])"
      ],
      "execution_count": 3,
      "outputs": [
        {
          "output_type": "stream",
          "text": [
            "Собственные значения:\n",
            " [ 1.00000000e+00 -1.00000000e+00 -6.06741369e-15]\n",
            "Собственные векторы:\n",
            " [[-4.08248290e-01 -8.94427191e-01 -7.21754760e-15]\n",
            " [-8.16496581e-01 -4.47213595e-01  7.07106781e-01]\n",
            " [-4.08248290e-01 -6.06741369e-16  7.07106781e-01]]\n"
          ],
          "name": "stdout"
        }
      ]
    },
    {
      "cell_type": "markdown",
      "metadata": {
        "id": "IrrLl_P4pi_-",
        "colab_type": "text"
      },
      "source": [
        "## Пункт 3"
      ]
    },
    {
      "cell_type": "code",
      "metadata": {
        "id": "QJYPzbu6pi__",
        "colab_type": "code",
        "outputId": "075c666a-64f1-4a4d-f9cd-777288d70c97",
        "colab": {
          "base_uri": "https://localhost:8080/",
          "height": 34
        }
      },
      "source": [
        "if (abs(np.max(ev[0]) - 1) < 0.0001):\n",
        "    print('Система на границе устойчивости')\n",
        "elif (np.max(ev[0]) < 1):\n",
        "    print('Устойчивая система')\n",
        "elif (np.max(ev[0]) > 1):\n",
        "    print('Неустойчивая система')"
      ],
      "execution_count": 4,
      "outputs": [
        {
          "output_type": "stream",
          "text": [
            "Система на границе устойчивости\n"
          ],
          "name": "stdout"
        }
      ]
    },
    {
      "cell_type": "markdown",
      "metadata": {
        "id": "pAHFuONDpjAD",
        "colab_type": "text"
      },
      "source": [
        "## Пункт 4"
      ]
    },
    {
      "cell_type": "code",
      "metadata": {
        "id": "psZMwuy8pjAI",
        "colab_type": "code",
        "outputId": "0d6ebb4c-f1e8-4781-90db-47569235cd97",
        "colab": {
          "base_uri": "https://localhost:8080/",
          "height": 85
        }
      },
      "source": [
        "epsilon = 0.0001\n",
        "k = 1 / (np.max(ev[0]) + epsilon)\n",
        "A_hat = A * k\n",
        "print('Скорректированная матрица:')\n",
        "print(A_hat)"
      ],
      "execution_count": 5,
      "outputs": [
        {
          "output_type": "stream",
          "text": [
            "Скорректированная матрица:\n",
            "[[-2.99970003  3.99960004 -3.99960004]\n",
            " [-2.99970003  4.99950005 -4.99950005]\n",
            " [-0.99990001  1.99980002 -1.99980002]]\n"
          ],
          "name": "stdout"
        }
      ]
    },
    {
      "cell_type": "code",
      "metadata": {
        "id": "IJVyR3-YpjAM",
        "colab_type": "code",
        "outputId": "ce4999dd-4fbd-4147-c03c-77f1717698b7",
        "colab": {
          "base_uri": "https://localhost:8080/",
          "height": 119
        }
      },
      "source": [
        "ev_hat = np.linalg.eig(A_hat)\n",
        "print('Собственные значения скорректированной матрицы:\\n', ev_hat[0])\n",
        "print('Собственные векторы скорректированной матрицы:\\n', ev_hat[1])"
      ],
      "execution_count": 6,
      "outputs": [
        {
          "output_type": "stream",
          "text": [
            "Собственные значения скорректированной матрицы:\n",
            " [ 9.99900010e-01 -9.99900010e-01  1.32724675e-15]\n",
            "Собственные векторы скорректированной матрицы:\n",
            " [[-4.08248290e-01 -8.94427191e-01  1.60506509e-15]\n",
            " [-8.16496581e-01 -4.47213595e-01  7.07106781e-01]\n",
            " [-4.08248290e-01  0.00000000e+00  7.07106781e-01]]\n"
          ],
          "name": "stdout"
        }
      ]
    },
    {
      "cell_type": "markdown",
      "metadata": {
        "id": "ukPRHClfpjAQ",
        "colab_type": "text"
      },
      "source": [
        "## Пункт 5"
      ]
    },
    {
      "cell_type": "markdown",
      "metadata": {
        "id": "SrIDoATjpjAR",
        "colab_type": "text"
      },
      "source": [
        "#### Выбираем соответствующие собственные вектора:"
      ]
    },
    {
      "cell_type": "code",
      "metadata": {
        "id": "O_rAAobupjAT",
        "colab_type": "code",
        "outputId": "c99ac7ba-d023-4964-ed51-55e6492f914f",
        "colab": {
          "base_uri": "https://localhost:8080/",
          "height": 119
        }
      },
      "source": [
        "def desc_eig(v):\n",
        "    if (abs(v) < 1):\n",
        "        return 'с асимптотически убывающими состояниями, т.к. соответствующее собственное значение по модулю меньше 1'\n",
        "    if (abs(abs(v) - 1) < 0.0001):\n",
        "        return 'с равномерно ограниченными состояниями, т.к. соответствующее собственное значение по модулю равно 1'\n",
        "    return 'с асимптотически возрастающими состояниями, т.к. соответствующее собственное значение по модулю больше 1'\n",
        "\n",
        "for i in range(3):\n",
        "    print('При Xo =', ev[1][i], 'система', desc_eig(ev[0][i]), '\\n')"
      ],
      "execution_count": 7,
      "outputs": [
        {
          "output_type": "stream",
          "text": [
            "При Xo = [-4.08248290e-01 -8.94427191e-01 -7.21754760e-15] система с равномерно ограниченными состояниями, т.к. соответствующее собственное значение по модулю равно 1 \n",
            "\n",
            "При Xo = [-0.81649658 -0.4472136   0.70710678] система с равномерно ограниченными состояниями, т.к. соответствующее собственное значение по модулю равно 1 \n",
            "\n",
            "При Xo = [-4.08248290e-01 -6.06741369e-16  7.07106781e-01] система с асимптотически убывающими состояниями, т.к. соответствующее собственное значение по модулю меньше 1 \n",
            "\n"
          ],
          "name": "stdout"
        }
      ]
    },
    {
      "cell_type": "markdown",
      "metadata": {
        "id": "WXXIp3-UpjAY",
        "colab_type": "text"
      },
      "source": [
        "## Пункт 6"
      ]
    },
    {
      "cell_type": "code",
      "metadata": {
        "id": "04RAyX7HpjAa",
        "colab_type": "code",
        "outputId": "07a895b2-f93a-4445-f5de-485ceef1511f",
        "colab": {
          "base_uri": "https://localhost:8080/",
          "height": 68
        }
      },
      "source": [
        "np.linalg.matrix_power(A, 1)"
      ],
      "execution_count": 8,
      "outputs": [
        {
          "output_type": "execute_result",
          "data": {
            "text/plain": [
              "array([[-3,  4, -4],\n",
              "       [-3,  5, -5],\n",
              "       [-1,  2, -2]])"
            ]
          },
          "metadata": {
            "tags": []
          },
          "execution_count": 8
        }
      ]
    },
    {
      "cell_type": "code",
      "metadata": {
        "id": "9zQ4nGPBptml",
        "colab_type": "code",
        "outputId": "83cec588-e28a-43ef-fb22-64abde35ddf1",
        "colab": {
          "base_uri": "https://localhost:8080/",
          "height": 68
        }
      },
      "source": [
        "np.linalg.matrix_power(A, 2)"
      ],
      "execution_count": 9,
      "outputs": [
        {
          "output_type": "execute_result",
          "data": {
            "text/plain": [
              "array([[ 1,  0,  0],\n",
              "       [-1,  3, -3],\n",
              "       [-1,  2, -2]])"
            ]
          },
          "metadata": {
            "tags": []
          },
          "execution_count": 9
        }
      ]
    },
    {
      "cell_type": "code",
      "metadata": {
        "id": "e7j_k4WaqCUm",
        "colab_type": "code",
        "outputId": "c3a857e1-5836-4738-ffe7-c34613748087",
        "colab": {
          "base_uri": "https://localhost:8080/",
          "height": 68
        }
      },
      "source": [
        "np.linalg.matrix_power(A, 3)"
      ],
      "execution_count": 10,
      "outputs": [
        {
          "output_type": "execute_result",
          "data": {
            "text/plain": [
              "array([[-3,  4, -4],\n",
              "       [-3,  5, -5],\n",
              "       [-1,  2, -2]])"
            ]
          },
          "metadata": {
            "tags": []
          },
          "execution_count": 10
        }
      ]
    },
    {
      "cell_type": "code",
      "metadata": {
        "id": "PfSubm4ApuEx",
        "colab_type": "code",
        "outputId": "fe80c958-392c-4908-beb6-941e43252e48",
        "colab": {
          "base_uri": "https://localhost:8080/",
          "height": 68
        }
      },
      "source": [
        "np.linalg.matrix_power(A, 200)"
      ],
      "execution_count": 11,
      "outputs": [
        {
          "output_type": "execute_result",
          "data": {
            "text/plain": [
              "array([[ 1,  0,  0],\n",
              "       [-1,  3, -3],\n",
              "       [-1,  2, -2]])"
            ]
          },
          "metadata": {
            "tags": []
          },
          "execution_count": 11
        }
      ]
    },
    {
      "cell_type": "code",
      "metadata": {
        "id": "Shvss7nlp2Lp",
        "colab_type": "code",
        "outputId": "32a9d936-b8d7-4cef-fb2e-41f718e0c1d6",
        "colab": {
          "base_uri": "https://localhost:8080/",
          "height": 68
        }
      },
      "source": [
        "np.linalg.matrix_power(A_hat, 1)"
      ],
      "execution_count": 12,
      "outputs": [
        {
          "output_type": "execute_result",
          "data": {
            "text/plain": [
              "array([[-2.99970003,  3.99960004, -3.99960004],\n",
              "       [-2.99970003,  4.99950005, -4.99950005],\n",
              "       [-0.99990001,  1.99980002, -1.99980002]])"
            ]
          },
          "metadata": {
            "tags": []
          },
          "execution_count": 12
        }
      ]
    },
    {
      "cell_type": "code",
      "metadata": {
        "id": "CwEU7XFwp2Yg",
        "colab_type": "code",
        "outputId": "415ba2ca-9654-445b-dd2e-cec04ab9c227",
        "colab": {
          "base_uri": "https://localhost:8080/",
          "height": 68
        }
      },
      "source": [
        "np.linalg.matrix_power(A_hat, 2)"
      ],
      "execution_count": 13,
      "outputs": [
        {
          "output_type": "execute_result",
          "data": {
            "text/plain": [
              "array([[ 9.99800030e-01,  1.89152878e-15, -1.89152878e-15],\n",
              "       [-9.99800030e-01,  2.99940009e+00, -2.99940009e+00],\n",
              "       [-9.99800030e-01,  1.99960006e+00, -1.99960006e+00]])"
            ]
          },
          "metadata": {
            "tags": []
          },
          "execution_count": 13
        }
      ]
    },
    {
      "cell_type": "code",
      "metadata": {
        "id": "U31eAQ-fqHe5",
        "colab_type": "code",
        "outputId": "e88ac964-6834-4820-e9f3-573894451489",
        "colab": {
          "base_uri": "https://localhost:8080/",
          "height": 68
        }
      },
      "source": [
        "np.linalg.matrix_power(A_hat, 3)"
      ],
      "execution_count": 14,
      "outputs": [
        {
          "output_type": "execute_result",
          "data": {
            "text/plain": [
              "array([[-2.99910018,  3.99880024, -3.99880024],\n",
              "       [-2.99910018,  4.9985003 , -4.9985003 ],\n",
              "       [-0.99970006,  1.99940012, -1.99940012]])"
            ]
          },
          "metadata": {
            "tags": []
          },
          "execution_count": 14
        }
      ]
    },
    {
      "cell_type": "code",
      "metadata": {
        "id": "GnxTHBxrpjAe",
        "colab_type": "code",
        "outputId": "a6614dc0-0a74-475b-8da0-16819679aaeb",
        "colab": {
          "base_uri": "https://localhost:8080/",
          "height": 68
        }
      },
      "source": [
        "np.linalg.matrix_power(A_hat, 200)"
      ],
      "execution_count": 15,
      "outputs": [
        {
          "output_type": "execute_result",
          "data": {
            "text/plain": [
              "array([[ 9.80199653e-01,  1.85444669e-13, -1.85444669e-13],\n",
              "       [-9.80199653e-01,  2.94059896e+00, -2.94059896e+00],\n",
              "       [-9.80199653e-01,  1.96039931e+00, -1.96039931e+00]])"
            ]
          },
          "metadata": {
            "tags": []
          },
          "execution_count": 15
        }
      ]
    },
    {
      "cell_type": "markdown",
      "metadata": {
        "id": "neF3Sn2apjAh",
        "colab_type": "text"
      },
      "source": [
        "#### Скорректированная матрица стремится к 0"
      ]
    },
    {
      "cell_type": "markdown",
      "metadata": {
        "id": "J20eUt4_pjAi",
        "colab_type": "text"
      },
      "source": [
        "## Пункт 7"
      ]
    },
    {
      "cell_type": "markdown",
      "metadata": {
        "id": "-FYLBq15rVke",
        "colab_type": "text"
      },
      "source": [
        "1) Дискретная"
      ]
    },
    {
      "cell_type": "code",
      "metadata": {
        "id": "2MxBpd3JpjAj",
        "colab_type": "code",
        "outputId": "88aba70a-4216-437d-9d79-0fb485c1b37c",
        "colab": {
          "base_uri": "https://localhost:8080/",
          "height": 51
        }
      },
      "source": [
        "A = np.array(A)\n",
        "X = [ev[1][1]]\n",
        "n = 20\n",
        "\n",
        "print('n =', n)\n",
        "print('X0 =', X[0])"
      ],
      "execution_count": 16,
      "outputs": [
        {
          "output_type": "stream",
          "text": [
            "n = 20\n",
            "X0 = [-0.81649658 -0.4472136   0.70710678]\n"
          ],
          "name": "stdout"
        }
      ]
    },
    {
      "cell_type": "code",
      "metadata": {
        "id": "oVXP2W_mrjqf",
        "colab_type": "code",
        "outputId": "a755f460-42b5-4197-ee75-5da8bfe14717",
        "colab": {
          "base_uri": "https://localhost:8080/",
          "height": 357
        }
      },
      "source": [
        "f = []\n",
        "f.append(np.array([1,1,1]))\n",
        "for i in range(1, 21):\n",
        "  f.append(m / (i**2) * f[i - 1])\n",
        "  print('f(%d) = ' % i, str(f[i]))"
      ],
      "execution_count": 17,
      "outputs": [
        {
          "output_type": "stream",
          "text": [
            "f(1) =  [12. 12. 12.]\n",
            "f(2) =  [36. 36. 36.]\n",
            "f(3) =  [48. 48. 48.]\n",
            "f(4) =  [36. 36. 36.]\n",
            "f(5) =  [17.28 17.28 17.28]\n",
            "f(6) =  [5.76 5.76 5.76]\n",
            "f(7) =  [1.41061224 1.41061224 1.41061224]\n",
            "f(8) =  [0.2644898 0.2644898 0.2644898]\n",
            "f(9) =  [0.03918367 0.03918367 0.03918367]\n",
            "f(10) =  [0.00470204 0.00470204 0.00470204]\n",
            "f(11) =  [0.00046632 0.00046632 0.00046632]\n",
            "f(12) =  [3.88598415e-05 3.88598415e-05 3.88598415e-05]\n",
            "f(13) =  [2.75927868e-06 2.75927868e-06 2.75927868e-06]\n",
            "f(14) =  [1.6893543e-07 1.6893543e-07 1.6893543e-07]\n",
            "f(15) =  [9.00988958e-09 9.00988958e-09 9.00988958e-09]\n",
            "f(16) =  [4.22338574e-10 4.22338574e-10 4.22338574e-10]\n",
            "f(17) =  [1.75365498e-11 1.75365498e-11 1.75365498e-11]\n",
            "f(18) =  [6.49501844e-13 6.49501844e-13 6.49501844e-13]\n",
            "f(19) =  [2.1590089e-14 2.1590089e-14 2.1590089e-14]\n",
            "f(20) =  [6.4770267e-16 6.4770267e-16 6.4770267e-16]\n"
          ],
          "name": "stdout"
        }
      ]
    },
    {
      "cell_type": "code",
      "metadata": {
        "id": "W31fHLecrprM",
        "colab_type": "code",
        "outputId": "60dc6e63-36c3-4dda-b6ff-97e9065c8227",
        "colab": {
          "base_uri": "https://localhost:8080/",
          "height": 34
        }
      },
      "source": [
        "Xn = matrix_power(A, n).dot(X[0]) + sum([matrix_power(A, n-k-1).dot(f[k]) for k in range(n)])\n",
        "print('X(%d) = ' % 20, str(Xn))"
      ],
      "execution_count": 18,
      "outputs": [
        {
          "output_type": "stream",
          "text": [
            "X(20) =  [-159.17392417 -318.46442215 -159.25164004]\n"
          ],
          "name": "stdout"
        }
      ]
    },
    {
      "cell_type": "code",
      "metadata": {
        "id": "wOxldUBbvrcR",
        "colab_type": "code",
        "outputId": "1ba6585f-f1ab-44a2-b6af-f13bf52d9cc7",
        "colab": {
          "base_uri": "https://localhost:8080/",
          "height": 374
        }
      },
      "source": [
        "print('X(%d) = ' % 0, str(X[0]))\n",
        "for i in range(1, 21):\n",
        "  X.append(A.dot(X[i-1]) + f[i-1])\n",
        "  print('X(%d) = ' % i, str(X[i]))"
      ],
      "execution_count": 19,
      "outputs": [
        {
          "output_type": "stream",
          "text": [
            "X(0) =  [-0.81649658 -0.4472136   0.70710678]\n",
            "X(1) =  [-1.16779176 -2.32211214 -0.49214417]\n",
            "X(2) =  [8.18350342 6.35353545 9.50785583]\n",
            "X(3) =  [-1.16779176 -4.32211214 21.50785583]\n",
            "X(4) =  [-51.81649658 -77.64646455  -2.49214417]\n",
            "X(5) =  [-109.16779176 -184.32211214  -62.49214417]\n",
            "X(6) =  [-142.53649658 -264.36646455 -117.21214417]\n",
            "X(7) =  [-155.24779176 -302.40211214 -146.01214417]\n",
            "X(8) =  [-158.40588434 -314.7958523  -156.12153193]\n",
            "X(9) =  [-159.2151387  -317.88945908 -158.67826662]\n",
            "X(10) =  [-159.16017005 -318.37136251 -159.16806254]\n",
            "X(11) =  [-159.32798768 -318.53128765 -159.24172785]\n",
            "X(12) =  [-159.17380985 -318.46336966 -159.25066561]\n",
            "X(13) =  [-159.32934778 -318.54205183 -159.25155939]\n",
            "X(14) =  [-159.17392367 -318.46441612 -159.25163435]\n",
            "X(15) =  [-159.32935589 -318.54213766 -159.2516397 ]\n",
            "X(16) =  [-159.17392417 -318.46442213 -159.25164002]\n",
            "X(17) =  [-159.32935591 -318.54213802 -159.25164004]\n",
            "X(18) =  [-159.17392417 -318.46442215 -159.25164004]\n",
            "X(19) =  [-159.32935591 -318.54213802 -159.25164004]\n",
            "X(20) =  [-159.17392417 -318.46442215 -159.25164004]\n"
          ],
          "name": "stdout"
        }
      ]
    },
    {
      "cell_type": "markdown",
      "metadata": {
        "id": "lNyRa1x7y7Mb",
        "colab_type": "text"
      },
      "source": [
        "2) Непрерывная"
      ]
    },
    {
      "cell_type": "code",
      "metadata": {
        "id": "G--upzWEw4H4",
        "colab_type": "code",
        "colab": {}
      },
      "source": [
        "import scipy.integrate as integrate\n",
        "import scipy.special as special\n",
        "from scipy.integrate import quad\n",
        "from scipy.linalg import expm\n",
        "from numpy import sqrt, sin, cos, pi\n",
        "from numpy import vectorize\n",
        "\n",
        "def integrand(x, A, t, m):\n",
        "  return expm(A * (t - x)).dot(np.array([(m + 10)/m, 1/m, 2/m])) * sin(x * (m+1) / m + pi * 0.25)\n",
        "\n",
        "t = 1"
      ],
      "execution_count": 0,
      "outputs": []
    },
    {
      "cell_type": "code",
      "metadata": {
        "id": "KgrDLw433Cpa",
        "colab_type": "code",
        "outputId": "930b4672-d72e-43af-f2af-04c5df7130c3",
        "colab": {
          "base_uri": "https://localhost:8080/",
          "height": 51
        }
      },
      "source": [
        "def compute(A, t, m, nbins=10000):\n",
        "    f = lambda x: integrand(x, A, t, m)\n",
        "    xv = np.linspace(0, t, nbins)\n",
        "    result = np.apply_along_axis(f, 0, xv.reshape(1,-1))\n",
        "    return np.trapz(result,xv)\n",
        " \n",
        "I = compute(A, 1, m)\n",
        "\n",
        "print('Значение интеграла:')\n",
        "print(I)"
      ],
      "execution_count": 21,
      "outputs": [
        {
          "output_type": "stream",
          "text": [
            "Значение интеграла:\n",
            "[-0.81263701 -3.05138754 -1.09627685]\n"
          ],
          "name": "stdout"
        }
      ]
    },
    {
      "cell_type": "code",
      "metadata": {
        "id": "t4E2SjzHAfhF",
        "colab_type": "code",
        "colab": {}
      },
      "source": [
        "import matplotlib.pyplot as plt\n",
        "%matplotlib inline"
      ],
      "execution_count": 0,
      "outputs": []
    },
    {
      "cell_type": "code",
      "metadata": {
        "id": "bS4T00ZeAP6a",
        "colab_type": "code",
        "outputId": "18316fc8-79e3-4321-9f76-1b2baa0610e3",
        "colab": {
          "base_uri": "https://localhost:8080/",
          "height": 832
        }
      },
      "source": [
        "t_arr = np.arange(0., 1., 0.01)\n",
        "\n",
        "print('Графики вектора подинтегрального выражения:')\n",
        "\n",
        "for j in range(3):\n",
        "  plt.plot(t_arr, [integrand(i, A, t, m)[j] for i in t_arr])\n",
        "  plt.grid(True, which='both')\n",
        "  plt.axhline(y=0, color='k')\n",
        "  plt.axvline(x=0, color='k')\n",
        "  plt.xlabel('time, s')\n",
        "  plt.ylabel('integrant %d' % (j + 1))\n",
        "  plt.show()"
      ],
      "execution_count": 23,
      "outputs": [
        {
          "output_type": "stream",
          "text": [
            "Графики вектора подинтегрального выражения:\n"
          ],
          "name": "stdout"
        },
        {
          "output_type": "display_data",
          "data": {
            "image/png": "[encoded data removed]",
            "text/plain": [
              "<Figure size 432x288 with 1 Axes>"
            ]
          },
          "metadata": {
            "tags": []
          }
        },
        {
          "output_type": "display_data",
          "data": {
            "image/png": "[encoded data removed]",
            "text/plain": [
              "<Figure size 432x288 with 1 Axes>"
            ]
          },
          "metadata": {
            "tags": []
          }
        },
        {
          "output_type": "display_data",
          "data": {
            "image/png": "[encoded data removed]",
            "text/plain": [
              "<Figure size 432x288 with 1 Axes>"
            ]
          },
          "metadata": {
            "tags": []
          }
        }
      ]
    },
    {
      "cell_type": "code",
      "metadata": {
        "id": "mMoq9q3lAQPs",
        "colab_type": "code",
        "outputId": "4624a9ae-31c0-4f34-c224-6fb7d492d250",
        "colab": {
          "base_uri": "https://localhost:8080/",
          "height": 34
        }
      },
      "source": [
        "y0 = ev[1][1]\n",
        "yt = expm(A * t).dot(y0) + I\n",
        "\n",
        "print('y(t) =', yt)"
      ],
      "execution_count": 24,
      "outputs": [
        {
          "output_type": "stream",
          "text": [
            "y(t) = [-4.62014854 -8.83999493 -2.95309429]\n"
          ],
          "name": "stdout"
        }
      ]
    }
  ]
}